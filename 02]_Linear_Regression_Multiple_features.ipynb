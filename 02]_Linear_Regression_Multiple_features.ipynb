{
  "nbformat": 4,
  "nbformat_minor": 0,
  "metadata": {
    "colab": {
      "provenance": []
    },
    "kernelspec": {
      "name": "python3",
      "display_name": "Python 3"
    },
    "language_info": {
      "name": "python"
    }
  },
  "cells": [
    {
      "cell_type": "markdown",
      "source": [
        "## **Data Preparation**"
      ],
      "metadata": {
        "id": "mikDzokPO3lm"
      }
    },
    {
      "cell_type": "code",
      "execution_count": 1,
      "metadata": {
        "id": "3eBMVDeTB3_C"
      },
      "outputs": [],
      "source": [
        "# generating data on our own ::::\n",
        "# using function make_regression to generate dummy datasets'\n",
        "\n",
        "import numpy as np\n",
        "import pandas as pd\n",
        "from sklearn.datasets import make_regression\n",
        "import matplotlib.pyplot as plt\n",
        "# For visualising data points"
      ]
    },
    {
      "cell_type": "markdown",
      "source": [
        "**STEP - 1 :: Generate Data**"
      ],
      "metadata": {
        "id": "sqF2m14FReIf"
      }
    },
    {
      "cell_type": "code",
      "source": [
        "X, y = make_regression()\n",
        "print(X.shape, y.shape)"
      ],
      "metadata": {
        "colab": {
          "base_uri": "https://localhost:8080/"
        },
        "id": "ACYoCJpAPGDU",
        "outputId": "2f064025-25eb-4703-b37f-53d2ce19e423"
      },
      "execution_count": 2,
      "outputs": [
        {
          "output_type": "stream",
          "name": "stdout",
          "text": [
            "(100, 100) (100,)\n"
          ]
        }
      ]
    },
    {
      "cell_type": "code",
      "source": [
        "# If you want only 10 features\n",
        "\n",
        "X, y = make_regression(n_samples = 500, n_features = 10, n_informative = 5, noise = 25.8, random_state = 0)\n",
        "#random_state: It is an optional parameter that allows you to set a seed for reproducibility.\n",
        "# If you use the same random_state value in the future, you should get the same dataset.\n",
        "print(X.shape, y.shape)\n",
        "\n",
        "n_features = X.shape[1]"
      ],
      "metadata": {
        "colab": {
          "base_uri": "https://localhost:8080/"
        },
        "id": "vvHrYWuAP7Hz",
        "outputId": "07a7f1ec-09aa-43ea-e3d6-3ca985183625"
      },
      "execution_count": 3,
      "outputs": [
        {
          "output_type": "stream",
          "name": "stdout",
          "text": [
            "(500, 10) (500,)\n"
          ]
        }
      ]
    },
    {
      "cell_type": "code",
      "source": [
        "print(X)"
      ],
      "metadata": {
        "colab": {
          "base_uri": "https://localhost:8080/"
        },
        "id": "vE9heeWfQ7kl",
        "outputId": "1bfb274b-ca97-43dc-9f36-0af31b17f80a"
      },
      "execution_count": 4,
      "outputs": [
        {
          "output_type": "stream",
          "name": "stdout",
          "text": [
            "[[ 1.70646825e+00  1.51163935e+00 -4.17326413e-04 ... -4.61893815e-01\n",
            "  -6.26490223e-01 -7.99593500e-01]\n",
            " [-1.61695604e+00  6.40131526e-01 -3.69181838e-01 ...  2.79924599e-01\n",
            "  -9.81503896e-02  6.55263731e-01]\n",
            " [ 9.39532294e-02 -1.30106954e-01  9.29505111e-01 ... -5.69312053e-01\n",
            "   2.69904355e-01  1.23721914e-01]\n",
            " ...\n",
            " [-1.79132755e+00 -3.65055217e-01 -4.99016638e-01 ... -1.63242330e+00\n",
            "  -6.71341546e-02  1.92753849e-01]\n",
            " [-3.60084119e-01 -1.12684086e+00  6.24447319e-01 ... -9.56580009e-01\n",
            "   5.97939206e-01  1.61479638e+00]\n",
            " [-5.41678349e-01  1.33179885e-01  8.13937910e-01 ...  1.18210209e+00\n",
            "  -1.57065459e+00  7.96560724e-01]]\n"
          ]
        }
      ]
    },
    {
      "cell_type": "code",
      "source": [
        "# How Data Looks like\n",
        "\n",
        "pd.DataFrame(X).head()"
      ],
      "metadata": {
        "colab": {
          "base_uri": "https://localhost:8080/",
          "height": 206
        },
        "id": "goVJ5JCwRH7o",
        "outputId": "f3de3cf2-35c4-41cc-bcbd-6569de474ff8"
      },
      "execution_count": 5,
      "outputs": [
        {
          "output_type": "execute_result",
          "data": {
            "text/plain": [
              "          0         1         2         3         4         5         6  \\\n",
              "0  1.706468  1.511639 -0.000417  0.374155  0.073285  0.701783  0.409552   \n",
              "1 -1.616956  0.640132 -0.369182 -0.239379 -0.738031 -0.024326  1.099660   \n",
              "2  0.093953 -0.130107  0.929505  0.582225 -2.739677  0.943046 -2.094603   \n",
              "3 -1.542758 -0.789954  0.537035 -0.286835 -2.369623 -0.767332  1.634406   \n",
              "4 -0.101003 -2.231538  0.436187  1.571463  1.324868 -0.587375  1.077315   \n",
              "\n",
              "          7         8         9  \n",
              "0 -0.461894 -0.626490 -0.799593  \n",
              "1  0.279925 -0.098150  0.655264  \n",
              "2 -0.569312  0.269904  0.123722  \n",
              "3 -0.260560  0.128957  0.571227  \n",
              "4  0.840648  0.261106  0.811090  "
            ],
            "text/html": [
              "\n",
              "  <div id=\"df-94913979-aedd-41cc-ae5d-b274d55a2471\" class=\"colab-df-container\">\n",
              "    <div>\n",
              "<style scoped>\n",
              "    .dataframe tbody tr th:only-of-type {\n",
              "        vertical-align: middle;\n",
              "    }\n",
              "\n",
              "    .dataframe tbody tr th {\n",
              "        vertical-align: top;\n",
              "    }\n",
              "\n",
              "    .dataframe thead th {\n",
              "        text-align: right;\n",
              "    }\n",
              "</style>\n",
              "<table border=\"1\" class=\"dataframe\">\n",
              "  <thead>\n",
              "    <tr style=\"text-align: right;\">\n",
              "      <th></th>\n",
              "      <th>0</th>\n",
              "      <th>1</th>\n",
              "      <th>2</th>\n",
              "      <th>3</th>\n",
              "      <th>4</th>\n",
              "      <th>5</th>\n",
              "      <th>6</th>\n",
              "      <th>7</th>\n",
              "      <th>8</th>\n",
              "      <th>9</th>\n",
              "    </tr>\n",
              "  </thead>\n",
              "  <tbody>\n",
              "    <tr>\n",
              "      <th>0</th>\n",
              "      <td>1.706468</td>\n",
              "      <td>1.511639</td>\n",
              "      <td>-0.000417</td>\n",
              "      <td>0.374155</td>\n",
              "      <td>0.073285</td>\n",
              "      <td>0.701783</td>\n",
              "      <td>0.409552</td>\n",
              "      <td>-0.461894</td>\n",
              "      <td>-0.626490</td>\n",
              "      <td>-0.799593</td>\n",
              "    </tr>\n",
              "    <tr>\n",
              "      <th>1</th>\n",
              "      <td>-1.616956</td>\n",
              "      <td>0.640132</td>\n",
              "      <td>-0.369182</td>\n",
              "      <td>-0.239379</td>\n",
              "      <td>-0.738031</td>\n",
              "      <td>-0.024326</td>\n",
              "      <td>1.099660</td>\n",
              "      <td>0.279925</td>\n",
              "      <td>-0.098150</td>\n",
              "      <td>0.655264</td>\n",
              "    </tr>\n",
              "    <tr>\n",
              "      <th>2</th>\n",
              "      <td>0.093953</td>\n",
              "      <td>-0.130107</td>\n",
              "      <td>0.929505</td>\n",
              "      <td>0.582225</td>\n",
              "      <td>-2.739677</td>\n",
              "      <td>0.943046</td>\n",
              "      <td>-2.094603</td>\n",
              "      <td>-0.569312</td>\n",
              "      <td>0.269904</td>\n",
              "      <td>0.123722</td>\n",
              "    </tr>\n",
              "    <tr>\n",
              "      <th>3</th>\n",
              "      <td>-1.542758</td>\n",
              "      <td>-0.789954</td>\n",
              "      <td>0.537035</td>\n",
              "      <td>-0.286835</td>\n",
              "      <td>-2.369623</td>\n",
              "      <td>-0.767332</td>\n",
              "      <td>1.634406</td>\n",
              "      <td>-0.260560</td>\n",
              "      <td>0.128957</td>\n",
              "      <td>0.571227</td>\n",
              "    </tr>\n",
              "    <tr>\n",
              "      <th>4</th>\n",
              "      <td>-0.101003</td>\n",
              "      <td>-2.231538</td>\n",
              "      <td>0.436187</td>\n",
              "      <td>1.571463</td>\n",
              "      <td>1.324868</td>\n",
              "      <td>-0.587375</td>\n",
              "      <td>1.077315</td>\n",
              "      <td>0.840648</td>\n",
              "      <td>0.261106</td>\n",
              "      <td>0.811090</td>\n",
              "    </tr>\n",
              "  </tbody>\n",
              "</table>\n",
              "</div>\n",
              "    <div class=\"colab-df-buttons\">\n",
              "\n",
              "  <div class=\"colab-df-container\">\n",
              "    <button class=\"colab-df-convert\" onclick=\"convertToInteractive('df-94913979-aedd-41cc-ae5d-b274d55a2471')\"\n",
              "            title=\"Convert this dataframe to an interactive table.\"\n",
              "            style=\"display:none;\">\n",
              "\n",
              "  <svg xmlns=\"http://www.w3.org/2000/svg\" height=\"24px\" viewBox=\"0 -960 960 960\">\n",
              "    <path d=\"M120-120v-720h720v720H120Zm60-500h600v-160H180v160Zm220 220h160v-160H400v160Zm0 220h160v-160H400v160ZM180-400h160v-160H180v160Zm440 0h160v-160H620v160ZM180-180h160v-160H180v160Zm440 0h160v-160H620v160Z\"/>\n",
              "  </svg>\n",
              "    </button>\n",
              "\n",
              "  <style>\n",
              "    .colab-df-container {\n",
              "      display:flex;\n",
              "      gap: 12px;\n",
              "    }\n",
              "\n",
              "    .colab-df-convert {\n",
              "      background-color: #E8F0FE;\n",
              "      border: none;\n",
              "      border-radius: 50%;\n",
              "      cursor: pointer;\n",
              "      display: none;\n",
              "      fill: #1967D2;\n",
              "      height: 32px;\n",
              "      padding: 0 0 0 0;\n",
              "      width: 32px;\n",
              "    }\n",
              "\n",
              "    .colab-df-convert:hover {\n",
              "      background-color: #E2EBFA;\n",
              "      box-shadow: 0px 1px 2px rgba(60, 64, 67, 0.3), 0px 1px 3px 1px rgba(60, 64, 67, 0.15);\n",
              "      fill: #174EA6;\n",
              "    }\n",
              "\n",
              "    .colab-df-buttons div {\n",
              "      margin-bottom: 4px;\n",
              "    }\n",
              "\n",
              "    [theme=dark] .colab-df-convert {\n",
              "      background-color: #3B4455;\n",
              "      fill: #D2E3FC;\n",
              "    }\n",
              "\n",
              "    [theme=dark] .colab-df-convert:hover {\n",
              "      background-color: #434B5C;\n",
              "      box-shadow: 0px 1px 3px 1px rgba(0, 0, 0, 0.15);\n",
              "      filter: drop-shadow(0px 1px 2px rgba(0, 0, 0, 0.3));\n",
              "      fill: #FFFFFF;\n",
              "    }\n",
              "  </style>\n",
              "\n",
              "    <script>\n",
              "      const buttonEl =\n",
              "        document.querySelector('#df-94913979-aedd-41cc-ae5d-b274d55a2471 button.colab-df-convert');\n",
              "      buttonEl.style.display =\n",
              "        google.colab.kernel.accessAllowed ? 'block' : 'none';\n",
              "\n",
              "      async function convertToInteractive(key) {\n",
              "        const element = document.querySelector('#df-94913979-aedd-41cc-ae5d-b274d55a2471');\n",
              "        const dataTable =\n",
              "          await google.colab.kernel.invokeFunction('convertToInteractive',\n",
              "                                                    [key], {});\n",
              "        if (!dataTable) return;\n",
              "\n",
              "        const docLinkHtml = 'Like what you see? Visit the ' +\n",
              "          '<a target=\"_blank\" href=https://colab.research.google.com/notebooks/data_table.ipynb>data table notebook</a>'\n",
              "          + ' to learn more about interactive tables.';\n",
              "        element.innerHTML = '';\n",
              "        dataTable['output_type'] = 'display_data';\n",
              "        await google.colab.output.renderOutput(dataTable, element);\n",
              "        const docLink = document.createElement('div');\n",
              "        docLink.innerHTML = docLinkHtml;\n",
              "        element.appendChild(docLink);\n",
              "      }\n",
              "    </script>\n",
              "  </div>\n",
              "\n",
              "\n",
              "<div id=\"df-e2d5519c-d517-4af2-9465-8271223c4acc\">\n",
              "  <button class=\"colab-df-quickchart\" onclick=\"quickchart('df-e2d5519c-d517-4af2-9465-8271223c4acc')\"\n",
              "            title=\"Suggest charts.\"\n",
              "            style=\"display:none;\">\n",
              "\n",
              "<svg xmlns=\"http://www.w3.org/2000/svg\" height=\"24px\"viewBox=\"0 0 24 24\"\n",
              "     width=\"24px\">\n",
              "    <g>\n",
              "        <path d=\"M19 3H5c-1.1 0-2 .9-2 2v14c0 1.1.9 2 2 2h14c1.1 0 2-.9 2-2V5c0-1.1-.9-2-2-2zM9 17H7v-7h2v7zm4 0h-2V7h2v10zm4 0h-2v-4h2v4z\"/>\n",
              "    </g>\n",
              "</svg>\n",
              "  </button>\n",
              "\n",
              "<style>\n",
              "  .colab-df-quickchart {\n",
              "      --bg-color: #E8F0FE;\n",
              "      --fill-color: #1967D2;\n",
              "      --hover-bg-color: #E2EBFA;\n",
              "      --hover-fill-color: #174EA6;\n",
              "      --disabled-fill-color: #AAA;\n",
              "      --disabled-bg-color: #DDD;\n",
              "  }\n",
              "\n",
              "  [theme=dark] .colab-df-quickchart {\n",
              "      --bg-color: #3B4455;\n",
              "      --fill-color: #D2E3FC;\n",
              "      --hover-bg-color: #434B5C;\n",
              "      --hover-fill-color: #FFFFFF;\n",
              "      --disabled-bg-color: #3B4455;\n",
              "      --disabled-fill-color: #666;\n",
              "  }\n",
              "\n",
              "  .colab-df-quickchart {\n",
              "    background-color: var(--bg-color);\n",
              "    border: none;\n",
              "    border-radius: 50%;\n",
              "    cursor: pointer;\n",
              "    display: none;\n",
              "    fill: var(--fill-color);\n",
              "    height: 32px;\n",
              "    padding: 0;\n",
              "    width: 32px;\n",
              "  }\n",
              "\n",
              "  .colab-df-quickchart:hover {\n",
              "    background-color: var(--hover-bg-color);\n",
              "    box-shadow: 0 1px 2px rgba(60, 64, 67, 0.3), 0 1px 3px 1px rgba(60, 64, 67, 0.15);\n",
              "    fill: var(--button-hover-fill-color);\n",
              "  }\n",
              "\n",
              "  .colab-df-quickchart-complete:disabled,\n",
              "  .colab-df-quickchart-complete:disabled:hover {\n",
              "    background-color: var(--disabled-bg-color);\n",
              "    fill: var(--disabled-fill-color);\n",
              "    box-shadow: none;\n",
              "  }\n",
              "\n",
              "  .colab-df-spinner {\n",
              "    border: 2px solid var(--fill-color);\n",
              "    border-color: transparent;\n",
              "    border-bottom-color: var(--fill-color);\n",
              "    animation:\n",
              "      spin 1s steps(1) infinite;\n",
              "  }\n",
              "\n",
              "  @keyframes spin {\n",
              "    0% {\n",
              "      border-color: transparent;\n",
              "      border-bottom-color: var(--fill-color);\n",
              "      border-left-color: var(--fill-color);\n",
              "    }\n",
              "    20% {\n",
              "      border-color: transparent;\n",
              "      border-left-color: var(--fill-color);\n",
              "      border-top-color: var(--fill-color);\n",
              "    }\n",
              "    30% {\n",
              "      border-color: transparent;\n",
              "      border-left-color: var(--fill-color);\n",
              "      border-top-color: var(--fill-color);\n",
              "      border-right-color: var(--fill-color);\n",
              "    }\n",
              "    40% {\n",
              "      border-color: transparent;\n",
              "      border-right-color: var(--fill-color);\n",
              "      border-top-color: var(--fill-color);\n",
              "    }\n",
              "    60% {\n",
              "      border-color: transparent;\n",
              "      border-right-color: var(--fill-color);\n",
              "    }\n",
              "    80% {\n",
              "      border-color: transparent;\n",
              "      border-right-color: var(--fill-color);\n",
              "      border-bottom-color: var(--fill-color);\n",
              "    }\n",
              "    90% {\n",
              "      border-color: transparent;\n",
              "      border-bottom-color: var(--fill-color);\n",
              "    }\n",
              "  }\n",
              "</style>\n",
              "\n",
              "  <script>\n",
              "    async function quickchart(key) {\n",
              "      const quickchartButtonEl =\n",
              "        document.querySelector('#' + key + ' button');\n",
              "      quickchartButtonEl.disabled = true;  // To prevent multiple clicks.\n",
              "      quickchartButtonEl.classList.add('colab-df-spinner');\n",
              "      try {\n",
              "        const charts = await google.colab.kernel.invokeFunction(\n",
              "            'suggestCharts', [key], {});\n",
              "      } catch (error) {\n",
              "        console.error('Error during call to suggestCharts:', error);\n",
              "      }\n",
              "      quickchartButtonEl.classList.remove('colab-df-spinner');\n",
              "      quickchartButtonEl.classList.add('colab-df-quickchart-complete');\n",
              "    }\n",
              "    (() => {\n",
              "      let quickchartButtonEl =\n",
              "        document.querySelector('#df-e2d5519c-d517-4af2-9465-8271223c4acc button');\n",
              "      quickchartButtonEl.style.display =\n",
              "        google.colab.kernel.accessAllowed ? 'block' : 'none';\n",
              "    })();\n",
              "  </script>\n",
              "</div>\n",
              "    </div>\n",
              "  </div>\n"
            ]
          },
          "metadata": {},
          "execution_count": 5
        }
      ]
    },
    {
      "cell_type": "markdown",
      "source": [
        "**STEP - 2:: Normalise**"
      ],
      "metadata": {
        "id": "ZK4aAGXxRqKy"
      }
    },
    {
      "cell_type": "code",
      "source": [
        "X.mean()\n",
        "\n",
        "# This is MEAN of all the points but it's not mean of Particular Row & Coloumn"
      ],
      "metadata": {
        "colab": {
          "base_uri": "https://localhost:8080/"
        },
        "id": "zuFQkAvKRUKy",
        "outputId": "9962e2d2-7ca6-4f4f-a8e5-1639d4d34c4b"
      },
      "execution_count": 6,
      "outputs": [
        {
          "output_type": "execute_result",
          "data": {
            "text/plain": [
              "-0.014726047025784055"
            ]
          },
          "metadata": {},
          "execution_count": 6
        }
      ]
    },
    {
      "cell_type": "code",
      "source": [
        "# It might be possible that this columnn may contain String,m Number too...\n",
        "# So taking mean of particular / Singulkar Column\n",
        "\n",
        "X.mean(axis = 0)"
      ],
      "metadata": {
        "colab": {
          "base_uri": "https://localhost:8080/"
        },
        "id": "oJ3eGlUkR_Hw",
        "outputId": "ab9c5231-b250-45ef-ec69-31c892d8bc37"
      },
      "execution_count": 7,
      "outputs": [
        {
          "output_type": "execute_result",
          "data": {
            "text/plain": [
              "array([-0.02995589, -0.07127637, -0.09357268,  0.04844928, -0.03183627,\n",
              "        0.01762592, -0.0091391 ,  0.00855508,  0.06286967, -0.04898012])"
            ]
          },
          "metadata": {},
          "execution_count": 7
        }
      ]
    },
    {
      "cell_type": "code",
      "source": [
        "X.mean(axis = 0).shape"
      ],
      "metadata": {
        "colab": {
          "base_uri": "https://localhost:8080/"
        },
        "id": "9J7B-MZvSUAp",
        "outputId": "3f795e96-832b-47da-d094-8dd01aef3287"
      },
      "execution_count": 8,
      "outputs": [
        {
          "output_type": "execute_result",
          "data": {
            "text/plain": [
              "(10,)"
            ]
          },
          "metadata": {},
          "execution_count": 8
        }
      ]
    },
    {
      "cell_type": "markdown",
      "source": [
        "**Axis = 0 --> This means that you are calculating the mean along the columns.**\n",
        "\n",
        "Here's what each part does:\n",
        "\n",
        "**X:** This is your feature matrix with 500 samples and 10 features.\n",
        "\n",
        "**mean(axis=0):** This calculates the mean along axis 0, which is the mean along each column. The result is a 1D NumPy array containing the mean values for each of the 10 features.\n",
        "\n",
        "So, after running **X.mean(axis=0)**, you will obtain an array of length 10, where each element represents the mean value of the corresponding feature across all 500 samples."
      ],
      "metadata": {
        "id": "s4HCLVBtSbwc"
      }
    },
    {
      "cell_type": "code",
      "source": [
        "X.mean(axis =1)"
      ],
      "metadata": {
        "colab": {
          "base_uri": "https://localhost:8080/"
        },
        "id": "11Xh6zHCSWfJ",
        "outputId": "7f0ed625-fa91-465e-bf9a-bdb7f9146651"
      },
      "execution_count": 9,
      "outputs": [
        {
          "output_type": "execute_result",
          "data": {
            "text/plain": [
              "array([ 2.88848840e-01, -4.11045031e-02, -2.59134396e-01, -3.14543865e-01,\n",
              "        3.40276241e-01,  6.68542383e-01,  3.21360658e-01,  8.00323705e-02,\n",
              "       -6.93115434e-01,  6.86520366e-01, -3.25968965e-01, -3.61414896e-01,\n",
              "       -6.94323721e-02, -2.73619335e-01, -1.41039958e-01, -6.29737314e-01,\n",
              "       -3.69323105e-01, -5.86811603e-02, -6.85688173e-02, -3.06994721e-01,\n",
              "       -4.22446100e-02, -1.71229860e-01, -8.17239902e-02,  3.33083221e-01,\n",
              "        1.63953611e-01, -5.83398220e-02, -1.87197810e-01, -1.53540532e-01,\n",
              "       -2.37045330e-01,  7.38023171e-01, -3.28316220e-03,  5.96530621e-02,\n",
              "        5.30365174e-01, -3.50894120e-01, -2.65271434e-01, -2.35074498e-01,\n",
              "       -3.45893128e-01,  1.04738507e-01,  1.37204348e-01, -3.52536108e-01,\n",
              "       -2.77245349e-01,  4.97568448e-01, -1.57848751e-02,  4.66211724e-01,\n",
              "       -1.69625569e-01, -4.34762842e-01,  1.89900156e-01,  3.36302366e-01,\n",
              "       -6.26751941e-01,  4.61063164e-01, -5.80266726e-01, -2.79623005e-01,\n",
              "        4.45410550e-01,  3.24718415e-01,  9.97030794e-02, -5.95689157e-01,\n",
              "       -6.85196403e-01, -2.80690418e-01,  3.92889417e-01,  2.58941621e-01,\n",
              "       -2.08577690e-01, -5.81856635e-01,  6.86024011e-02,  1.77657848e-01,\n",
              "        3.66652167e-02, -7.20157642e-01, -4.46959782e-01, -1.50713963e-01,\n",
              "       -1.22185217e-01,  6.04051305e-01, -3.27548323e-01, -1.16134450e-01,\n",
              "        3.43506953e-01, -4.43151165e-02,  4.42149270e-01,  1.86684815e-01,\n",
              "       -6.59456506e-02, -3.31449488e-01, -1.22485412e-01, -1.30317661e-01,\n",
              "        4.33362133e-01, -4.41455092e-02, -6.89415213e-03,  5.94205416e-02,\n",
              "       -2.47235043e-01, -5.47541630e-01, -8.23309831e-01,  2.70313893e-02,\n",
              "        3.95477147e-01,  9.35260667e-02, -1.07311659e-01, -2.48769524e-02,\n",
              "        4.56135965e-01, -3.57286372e-02,  5.39239367e-01,  5.67482748e-01,\n",
              "        1.13048278e-01,  2.07442866e-01,  1.01390857e-01,  2.66370961e-01,\n",
              "        1.81374123e-01, -3.22315907e-01, -4.63774352e-01,  9.25418527e-02,\n",
              "        4.98087541e-01, -7.05664180e-02,  5.07032450e-01, -3.92110789e-01,\n",
              "        9.05995740e-02,  3.96107408e-01, -4.47662309e-01,  3.38711189e-01,\n",
              "        5.30940476e-01, -3.74601853e-02, -2.68218249e-01, -4.98303139e-02,\n",
              "        4.08208400e-01, -8.03186284e-02, -3.20812652e-01,  8.04235602e-02,\n",
              "        3.02131250e-01, -4.68708134e-01, -6.29768183e-03,  1.20852644e-01,\n",
              "       -2.42792588e-01,  8.65183677e-01,  2.87213688e-01, -6.66491313e-02,\n",
              "        1.77963643e-01,  1.50416535e-01,  1.22697336e-01,  7.59545437e-01,\n",
              "        3.16802229e-01, -3.48057563e-01,  1.62078773e-01,  2.39538626e-01,\n",
              "        1.83702482e-01, -3.49944372e-02, -2.32286787e-02, -9.39617556e-02,\n",
              "        1.55750643e-01, -3.32935845e-01,  1.17399887e-01,  2.62371356e-01,\n",
              "        1.14977690e-01, -2.44715713e-01,  1.03579237e-02, -2.45692438e-01,\n",
              "        1.14862419e-01, -2.75963993e-01, -1.56932077e-01,  2.16803665e-01,\n",
              "       -2.80431440e-01, -1.01415200e-01,  3.55951750e-01,  4.57040038e-01,\n",
              "        4.44733905e-01,  4.98302186e-01, -3.07686817e-01, -4.08118522e-01,\n",
              "       -1.22701596e-01,  2.75016448e-01, -3.30114337e-01,  2.02448945e-01,\n",
              "        1.34310430e-01, -3.66360275e-03,  2.05876151e-01, -1.38571710e-01,\n",
              "        1.59867726e-01,  4.19694620e-01,  5.75403654e-03, -3.56719798e-01,\n",
              "        3.27011966e-01,  4.65862547e-01, -1.38927428e-01, -7.28807380e-02,\n",
              "       -4.40616659e-01,  9.55802331e-02,  4.51792977e-01,  2.18926115e-01,\n",
              "       -4.74202415e-01,  9.53688524e-02, -1.80104694e-01,  1.78582607e-01,\n",
              "        2.14660628e-01, -2.20019100e-01, -8.59283410e-01,  2.55136139e-02,\n",
              "        1.31668317e-01, -4.64227951e-02,  1.56378471e-01, -7.30926760e-01,\n",
              "        1.41502206e-01,  1.09282689e-01,  4.95404300e-02,  2.10234821e-01,\n",
              "        2.55131318e-01, -3.05664960e-01, -1.69601244e-01,  4.41645204e-01,\n",
              "       -3.25921260e-01,  5.51744495e-03, -7.83994489e-02, -8.80127794e-02,\n",
              "       -7.23748590e-02, -5.49567715e-02,  9.91173762e-02, -3.43346841e-02,\n",
              "       -7.02472122e-02, -1.84759221e-01,  5.99182279e-01,  2.68915048e-01,\n",
              "       -5.47373531e-01, -4.51630709e-01, -1.56023654e-01, -2.93599759e-01,\n",
              "       -3.74454204e-02,  1.16825256e-01, -3.71053195e-02, -2.77910241e-01,\n",
              "       -4.44155802e-01,  1.33453248e-01,  1.35495719e-01,  2.23865017e-01,\n",
              "       -5.84830384e-02,  4.17380177e-01, -2.50072189e-01, -5.39291392e-01,\n",
              "       -1.94317867e-01,  1.26329071e-01,  3.10765501e-01,  4.87397741e-01,\n",
              "       -3.34640273e-01,  2.04197227e-01, -1.38631747e-01, -1.71112881e-01,\n",
              "        1.48637762e-01,  2.24019384e-01,  5.07523931e-02, -2.04807767e-01,\n",
              "       -4.40794062e-01, -1.36209326e-01,  3.35403023e-01,  2.82959544e-01,\n",
              "        1.10325734e-01, -1.54896745e-01, -3.60348815e-01, -1.07412264e-01,\n",
              "       -1.20556113e-01, -1.31055104e-01, -3.73115495e-01,  6.88760624e-01,\n",
              "       -4.58459312e-01,  3.47608510e-01, -3.84583826e-02, -6.48942752e-01,\n",
              "       -3.23465322e-01, -1.89151027e-01, -4.15991865e-01,  1.43006287e-01,\n",
              "        2.48758527e-01,  1.23622255e-01,  2.45644489e-01,  1.40554978e-01,\n",
              "        4.20098333e-03,  2.84319878e-01, -1.38152613e-01,  3.08007603e-01,\n",
              "        2.25945123e-01,  1.00124097e-01,  2.38454038e-01,  1.51569134e-01,\n",
              "        3.05739084e-01,  3.81133102e-01,  3.93811513e-01,  2.75621482e-01,\n",
              "        1.37921490e-01, -1.01803454e-01, -2.18048614e-01,  7.42901411e-01,\n",
              "        3.46184336e-02, -1.70197986e-01, -1.97134874e-01,  1.70316481e-01,\n",
              "       -1.79046293e-01,  1.38039577e-02,  1.65979657e-01, -1.63093307e-01,\n",
              "       -5.01931393e-01, -3.49747733e-01, -6.20132250e-02,  2.17815867e-01,\n",
              "       -4.55272181e-01, -5.29427371e-02, -4.56070023e-01, -1.03064845e-01,\n",
              "        3.03179061e-01,  5.81507419e-01, -8.25623337e-02, -2.67379660e-02,\n",
              "       -4.70620611e-01,  4.65052624e-01,  1.68788829e-02,  3.75609609e-01,\n",
              "       -2.83140685e-01,  1.02600327e-01,  4.86617596e-02, -5.87058534e-01,\n",
              "        6.81521163e-01,  5.25696965e-01, -1.94561347e-02,  3.86876364e-01,\n",
              "        5.70548905e-02, -7.82682945e-02,  1.11873100e-02, -1.44760734e-01,\n",
              "        7.55373097e-02, -2.66949883e-01,  7.11666316e-02, -3.41416484e-01,\n",
              "        1.76557517e-01, -1.20302109e-01,  3.48011737e-01,  4.89138913e-03,\n",
              "       -1.15812856e-01, -2.03138894e-01,  5.01510385e-01,  9.48449606e-02,\n",
              "        3.46727909e-02, -3.85604180e-01, -1.87728108e-01, -8.57958047e-02,\n",
              "       -1.18542845e-01, -4.71229361e-01,  2.05847832e-01,  1.37691681e-01,\n",
              "       -3.90258881e-01, -2.68147426e-01, -1.28102668e-01, -2.13172654e-01,\n",
              "        1.45913178e-02, -3.23768635e-02,  4.72774530e-02, -2.22660734e-01,\n",
              "        4.80670310e-01,  1.64785966e-01, -4.78920900e-02,  1.24264193e-01,\n",
              "        3.41748579e-01,  4.52948995e-01,  2.96961673e-01, -1.34322145e-01,\n",
              "        2.81772034e-01, -9.10900890e-02,  6.48742591e-01, -1.36832029e-01,\n",
              "       -2.89839514e-01, -4.10052687e-02, -3.91398842e-01,  1.38274890e-01,\n",
              "       -8.73374904e-02, -2.35753190e-01, -1.62887063e-01, -2.11269883e-01,\n",
              "       -1.80604186e-01,  1.25332038e-01, -8.38269615e-02, -1.00969900e-01,\n",
              "       -2.12390833e-01, -4.47153194e-02, -7.02771069e-01, -6.14086030e-01,\n",
              "       -1.94020470e-01, -5.87087834e-01,  1.02466736e-01,  2.54326801e-02,\n",
              "        2.56472951e-01, -1.51869820e-01, -6.81768391e-01,  6.77128879e-02,\n",
              "        7.14550759e-01, -1.84962108e-01,  5.19228744e-01,  9.16004671e-02,\n",
              "        2.16619929e-01,  6.97226857e-02, -5.10235342e-01,  2.39209725e-01,\n",
              "        1.73218177e-01, -4.88067672e-01,  1.70074444e-01, -5.75838976e-01,\n",
              "        3.43882521e-02,  2.74123151e-02,  7.26368120e-02,  3.93661317e-01,\n",
              "       -3.79277264e-01,  1.72843567e-01, -3.63532038e-01,  3.76934044e-01,\n",
              "        5.44647823e-01,  6.15274198e-01, -2.69521414e-01, -2.01800253e-01,\n",
              "       -2.94159260e-01,  2.70069868e-01,  7.00025227e-01, -2.38785139e-01,\n",
              "       -2.75245884e-01, -7.06281619e-02, -4.15900239e-01,  3.68876781e-02,\n",
              "        1.59520654e-01,  6.06368897e-01, -4.75127260e-01, -3.44466758e-01,\n",
              "       -4.84205678e-01,  6.01078993e-04, -3.78584610e-01,  2.81425994e-02,\n",
              "       -1.28788328e-01, -2.94371200e-01, -9.55821695e-02,  1.80968964e-01,\n",
              "        3.11499705e-02, -2.21728991e-01,  1.45693045e-01,  1.15514606e-01,\n",
              "       -3.17016856e-01,  4.00646015e-01, -1.47884630e-01, -1.26694192e-01,\n",
              "        1.60545212e-01, -1.86071151e-01, -4.63671423e-01, -2.22947719e-01,\n",
              "        1.26466549e-01,  8.84658911e-02,  4.97858413e-02, -1.92733080e-01,\n",
              "        3.56849070e-01, -3.20613668e-01,  6.06561466e-02, -6.32861916e-02,\n",
              "       -3.79682268e-02,  5.86261830e-01, -2.78255101e-01, -6.80630222e-01,\n",
              "        7.31176993e-02, -1.53696821e-01,  2.39749673e-01,  5.29937245e-02,\n",
              "       -4.94931095e-01, -5.82155963e-01,  2.85530390e-01, -3.98906414e-01,\n",
              "       -1.98560570e-01,  1.24305710e-01,  1.20503138e-02,  2.42497705e-01,\n",
              "        1.78701336e-01,  3.17185688e-01,  1.82875446e-01,  7.02755961e-02,\n",
              "       -2.85025342e-01, -7.66827651e-01, -4.91190493e-02,  1.77509609e-01,\n",
              "        1.41725935e-01, -2.71449948e-02,  7.18985207e-01, -3.23685489e-01,\n",
              "        1.67057739e-01, -1.06747869e-01, -3.22802781e-01,  2.54546211e-02,\n",
              "       -2.90160657e-01,  2.15329233e-01, -9.46639120e-01,  2.77199316e-01,\n",
              "       -3.73150003e-01,  1.38475422e-01, -6.77143087e-01,  1.51415299e-01,\n",
              "        3.22343369e-01, -2.65497697e-01,  1.49386614e-01, -5.31020449e-02,\n",
              "       -8.29776868e-02, -3.11199742e-01, -3.49823550e-01, -8.46749408e-02,\n",
              "       -1.70487665e-01, -5.28514334e-02, -6.38260502e-02, -3.13231313e-01,\n",
              "        1.71340232e-01, -5.43609488e-01, -1.19810816e-02, -7.94153813e-02])"
            ]
          },
          "metadata": {},
          "execution_count": 9
        }
      ]
    },
    {
      "cell_type": "code",
      "source": [
        "def normalise(X):\n",
        "  u = X.mean(axis =0)\n",
        "  std = X.std(axis =0)\n",
        "\n",
        "  return (X- u) / std"
      ],
      "metadata": {
        "id": "Ap0vfPv0TJV6"
      },
      "execution_count": 10,
      "outputs": []
    },
    {
      "cell_type": "code",
      "source": [
        "X = normalise(X)\n",
        "pd.DataFrame(X).head()\n",
        "#This will give How Normalised Data Looks like"
      ],
      "metadata": {
        "colab": {
          "base_uri": "https://localhost:8080/",
          "height": 206
        },
        "id": "ztP6Dw33TZ-C",
        "outputId": "0827f8a8-20aa-48a7-ab9f-40bb3fb40af2"
      },
      "execution_count": 11,
      "outputs": [
        {
          "output_type": "execute_result",
          "data": {
            "text/plain": [
              "          0         1         2         3         4         5         6  \\\n",
              "0  1.764831  1.579606  0.093808  0.341546  0.103202  0.745205  0.421736   \n",
              "1 -1.612963  0.709920 -0.277540 -0.301827 -0.693297 -0.045695  1.116862   \n",
              "2  0.125936 -0.058708  1.030243  0.559735 -2.658385  1.007996 -2.100631   \n",
              "3 -1.537551 -0.717175  0.635024 -0.351591 -2.295090 -0.855000  1.655498   \n",
              "4 -0.072209 -2.155744  0.533470  1.597083  1.331926 -0.658985  1.094355   \n",
              "\n",
              "          7         8         9  \n",
              "0 -0.461091 -0.710885 -0.761760  \n",
              "1  0.265971 -0.166048  0.714702  \n",
              "2 -0.566372  0.213499  0.175267  \n",
              "3 -0.263762  0.068151  0.629417  \n",
              "4  0.815541  0.204426  0.872842  "
            ],
            "text/html": [
              "\n",
              "  <div id=\"df-979d9eb8-85ce-4a82-a4af-9895b6e49e23\" class=\"colab-df-container\">\n",
              "    <div>\n",
              "<style scoped>\n",
              "    .dataframe tbody tr th:only-of-type {\n",
              "        vertical-align: middle;\n",
              "    }\n",
              "\n",
              "    .dataframe tbody tr th {\n",
              "        vertical-align: top;\n",
              "    }\n",
              "\n",
              "    .dataframe thead th {\n",
              "        text-align: right;\n",
              "    }\n",
              "</style>\n",
              "<table border=\"1\" class=\"dataframe\">\n",
              "  <thead>\n",
              "    <tr style=\"text-align: right;\">\n",
              "      <th></th>\n",
              "      <th>0</th>\n",
              "      <th>1</th>\n",
              "      <th>2</th>\n",
              "      <th>3</th>\n",
              "      <th>4</th>\n",
              "      <th>5</th>\n",
              "      <th>6</th>\n",
              "      <th>7</th>\n",
              "      <th>8</th>\n",
              "      <th>9</th>\n",
              "    </tr>\n",
              "  </thead>\n",
              "  <tbody>\n",
              "    <tr>\n",
              "      <th>0</th>\n",
              "      <td>1.764831</td>\n",
              "      <td>1.579606</td>\n",
              "      <td>0.093808</td>\n",
              "      <td>0.341546</td>\n",
              "      <td>0.103202</td>\n",
              "      <td>0.745205</td>\n",
              "      <td>0.421736</td>\n",
              "      <td>-0.461091</td>\n",
              "      <td>-0.710885</td>\n",
              "      <td>-0.761760</td>\n",
              "    </tr>\n",
              "    <tr>\n",
              "      <th>1</th>\n",
              "      <td>-1.612963</td>\n",
              "      <td>0.709920</td>\n",
              "      <td>-0.277540</td>\n",
              "      <td>-0.301827</td>\n",
              "      <td>-0.693297</td>\n",
              "      <td>-0.045695</td>\n",
              "      <td>1.116862</td>\n",
              "      <td>0.265971</td>\n",
              "      <td>-0.166048</td>\n",
              "      <td>0.714702</td>\n",
              "    </tr>\n",
              "    <tr>\n",
              "      <th>2</th>\n",
              "      <td>0.125936</td>\n",
              "      <td>-0.058708</td>\n",
              "      <td>1.030243</td>\n",
              "      <td>0.559735</td>\n",
              "      <td>-2.658385</td>\n",
              "      <td>1.007996</td>\n",
              "      <td>-2.100631</td>\n",
              "      <td>-0.566372</td>\n",
              "      <td>0.213499</td>\n",
              "      <td>0.175267</td>\n",
              "    </tr>\n",
              "    <tr>\n",
              "      <th>3</th>\n",
              "      <td>-1.537551</td>\n",
              "      <td>-0.717175</td>\n",
              "      <td>0.635024</td>\n",
              "      <td>-0.351591</td>\n",
              "      <td>-2.295090</td>\n",
              "      <td>-0.855000</td>\n",
              "      <td>1.655498</td>\n",
              "      <td>-0.263762</td>\n",
              "      <td>0.068151</td>\n",
              "      <td>0.629417</td>\n",
              "    </tr>\n",
              "    <tr>\n",
              "      <th>4</th>\n",
              "      <td>-0.072209</td>\n",
              "      <td>-2.155744</td>\n",
              "      <td>0.533470</td>\n",
              "      <td>1.597083</td>\n",
              "      <td>1.331926</td>\n",
              "      <td>-0.658985</td>\n",
              "      <td>1.094355</td>\n",
              "      <td>0.815541</td>\n",
              "      <td>0.204426</td>\n",
              "      <td>0.872842</td>\n",
              "    </tr>\n",
              "  </tbody>\n",
              "</table>\n",
              "</div>\n",
              "    <div class=\"colab-df-buttons\">\n",
              "\n",
              "  <div class=\"colab-df-container\">\n",
              "    <button class=\"colab-df-convert\" onclick=\"convertToInteractive('df-979d9eb8-85ce-4a82-a4af-9895b6e49e23')\"\n",
              "            title=\"Convert this dataframe to an interactive table.\"\n",
              "            style=\"display:none;\">\n",
              "\n",
              "  <svg xmlns=\"http://www.w3.org/2000/svg\" height=\"24px\" viewBox=\"0 -960 960 960\">\n",
              "    <path d=\"M120-120v-720h720v720H120Zm60-500h600v-160H180v160Zm220 220h160v-160H400v160Zm0 220h160v-160H400v160ZM180-400h160v-160H180v160Zm440 0h160v-160H620v160ZM180-180h160v-160H180v160Zm440 0h160v-160H620v160Z\"/>\n",
              "  </svg>\n",
              "    </button>\n",
              "\n",
              "  <style>\n",
              "    .colab-df-container {\n",
              "      display:flex;\n",
              "      gap: 12px;\n",
              "    }\n",
              "\n",
              "    .colab-df-convert {\n",
              "      background-color: #E8F0FE;\n",
              "      border: none;\n",
              "      border-radius: 50%;\n",
              "      cursor: pointer;\n",
              "      display: none;\n",
              "      fill: #1967D2;\n",
              "      height: 32px;\n",
              "      padding: 0 0 0 0;\n",
              "      width: 32px;\n",
              "    }\n",
              "\n",
              "    .colab-df-convert:hover {\n",
              "      background-color: #E2EBFA;\n",
              "      box-shadow: 0px 1px 2px rgba(60, 64, 67, 0.3), 0px 1px 3px 1px rgba(60, 64, 67, 0.15);\n",
              "      fill: #174EA6;\n",
              "    }\n",
              "\n",
              "    .colab-df-buttons div {\n",
              "      margin-bottom: 4px;\n",
              "    }\n",
              "\n",
              "    [theme=dark] .colab-df-convert {\n",
              "      background-color: #3B4455;\n",
              "      fill: #D2E3FC;\n",
              "    }\n",
              "\n",
              "    [theme=dark] .colab-df-convert:hover {\n",
              "      background-color: #434B5C;\n",
              "      box-shadow: 0px 1px 3px 1px rgba(0, 0, 0, 0.15);\n",
              "      filter: drop-shadow(0px 1px 2px rgba(0, 0, 0, 0.3));\n",
              "      fill: #FFFFFF;\n",
              "    }\n",
              "  </style>\n",
              "\n",
              "    <script>\n",
              "      const buttonEl =\n",
              "        document.querySelector('#df-979d9eb8-85ce-4a82-a4af-9895b6e49e23 button.colab-df-convert');\n",
              "      buttonEl.style.display =\n",
              "        google.colab.kernel.accessAllowed ? 'block' : 'none';\n",
              "\n",
              "      async function convertToInteractive(key) {\n",
              "        const element = document.querySelector('#df-979d9eb8-85ce-4a82-a4af-9895b6e49e23');\n",
              "        const dataTable =\n",
              "          await google.colab.kernel.invokeFunction('convertToInteractive',\n",
              "                                                    [key], {});\n",
              "        if (!dataTable) return;\n",
              "\n",
              "        const docLinkHtml = 'Like what you see? Visit the ' +\n",
              "          '<a target=\"_blank\" href=https://colab.research.google.com/notebooks/data_table.ipynb>data table notebook</a>'\n",
              "          + ' to learn more about interactive tables.';\n",
              "        element.innerHTML = '';\n",
              "        dataTable['output_type'] = 'display_data';\n",
              "        await google.colab.output.renderOutput(dataTable, element);\n",
              "        const docLink = document.createElement('div');\n",
              "        docLink.innerHTML = docLinkHtml;\n",
              "        element.appendChild(docLink);\n",
              "      }\n",
              "    </script>\n",
              "  </div>\n",
              "\n",
              "\n",
              "<div id=\"df-39987b86-ab73-4006-8111-e83e14472a7b\">\n",
              "  <button class=\"colab-df-quickchart\" onclick=\"quickchart('df-39987b86-ab73-4006-8111-e83e14472a7b')\"\n",
              "            title=\"Suggest charts.\"\n",
              "            style=\"display:none;\">\n",
              "\n",
              "<svg xmlns=\"http://www.w3.org/2000/svg\" height=\"24px\"viewBox=\"0 0 24 24\"\n",
              "     width=\"24px\">\n",
              "    <g>\n",
              "        <path d=\"M19 3H5c-1.1 0-2 .9-2 2v14c0 1.1.9 2 2 2h14c1.1 0 2-.9 2-2V5c0-1.1-.9-2-2-2zM9 17H7v-7h2v7zm4 0h-2V7h2v10zm4 0h-2v-4h2v4z\"/>\n",
              "    </g>\n",
              "</svg>\n",
              "  </button>\n",
              "\n",
              "<style>\n",
              "  .colab-df-quickchart {\n",
              "      --bg-color: #E8F0FE;\n",
              "      --fill-color: #1967D2;\n",
              "      --hover-bg-color: #E2EBFA;\n",
              "      --hover-fill-color: #174EA6;\n",
              "      --disabled-fill-color: #AAA;\n",
              "      --disabled-bg-color: #DDD;\n",
              "  }\n",
              "\n",
              "  [theme=dark] .colab-df-quickchart {\n",
              "      --bg-color: #3B4455;\n",
              "      --fill-color: #D2E3FC;\n",
              "      --hover-bg-color: #434B5C;\n",
              "      --hover-fill-color: #FFFFFF;\n",
              "      --disabled-bg-color: #3B4455;\n",
              "      --disabled-fill-color: #666;\n",
              "  }\n",
              "\n",
              "  .colab-df-quickchart {\n",
              "    background-color: var(--bg-color);\n",
              "    border: none;\n",
              "    border-radius: 50%;\n",
              "    cursor: pointer;\n",
              "    display: none;\n",
              "    fill: var(--fill-color);\n",
              "    height: 32px;\n",
              "    padding: 0;\n",
              "    width: 32px;\n",
              "  }\n",
              "\n",
              "  .colab-df-quickchart:hover {\n",
              "    background-color: var(--hover-bg-color);\n",
              "    box-shadow: 0 1px 2px rgba(60, 64, 67, 0.3), 0 1px 3px 1px rgba(60, 64, 67, 0.15);\n",
              "    fill: var(--button-hover-fill-color);\n",
              "  }\n",
              "\n",
              "  .colab-df-quickchart-complete:disabled,\n",
              "  .colab-df-quickchart-complete:disabled:hover {\n",
              "    background-color: var(--disabled-bg-color);\n",
              "    fill: var(--disabled-fill-color);\n",
              "    box-shadow: none;\n",
              "  }\n",
              "\n",
              "  .colab-df-spinner {\n",
              "    border: 2px solid var(--fill-color);\n",
              "    border-color: transparent;\n",
              "    border-bottom-color: var(--fill-color);\n",
              "    animation:\n",
              "      spin 1s steps(1) infinite;\n",
              "  }\n",
              "\n",
              "  @keyframes spin {\n",
              "    0% {\n",
              "      border-color: transparent;\n",
              "      border-bottom-color: var(--fill-color);\n",
              "      border-left-color: var(--fill-color);\n",
              "    }\n",
              "    20% {\n",
              "      border-color: transparent;\n",
              "      border-left-color: var(--fill-color);\n",
              "      border-top-color: var(--fill-color);\n",
              "    }\n",
              "    30% {\n",
              "      border-color: transparent;\n",
              "      border-left-color: var(--fill-color);\n",
              "      border-top-color: var(--fill-color);\n",
              "      border-right-color: var(--fill-color);\n",
              "    }\n",
              "    40% {\n",
              "      border-color: transparent;\n",
              "      border-right-color: var(--fill-color);\n",
              "      border-top-color: var(--fill-color);\n",
              "    }\n",
              "    60% {\n",
              "      border-color: transparent;\n",
              "      border-right-color: var(--fill-color);\n",
              "    }\n",
              "    80% {\n",
              "      border-color: transparent;\n",
              "      border-right-color: var(--fill-color);\n",
              "      border-bottom-color: var(--fill-color);\n",
              "    }\n",
              "    90% {\n",
              "      border-color: transparent;\n",
              "      border-bottom-color: var(--fill-color);\n",
              "    }\n",
              "  }\n",
              "</style>\n",
              "\n",
              "  <script>\n",
              "    async function quickchart(key) {\n",
              "      const quickchartButtonEl =\n",
              "        document.querySelector('#' + key + ' button');\n",
              "      quickchartButtonEl.disabled = true;  // To prevent multiple clicks.\n",
              "      quickchartButtonEl.classList.add('colab-df-spinner');\n",
              "      try {\n",
              "        const charts = await google.colab.kernel.invokeFunction(\n",
              "            'suggestCharts', [key], {});\n",
              "      } catch (error) {\n",
              "        console.error('Error during call to suggestCharts:', error);\n",
              "      }\n",
              "      quickchartButtonEl.classList.remove('colab-df-spinner');\n",
              "      quickchartButtonEl.classList.add('colab-df-quickchart-complete');\n",
              "    }\n",
              "    (() => {\n",
              "      let quickchartButtonEl =\n",
              "        document.querySelector('#df-39987b86-ab73-4006-8111-e83e14472a7b button');\n",
              "      quickchartButtonEl.style.display =\n",
              "        google.colab.kernel.accessAllowed ? 'block' : 'none';\n",
              "    })();\n",
              "  </script>\n",
              "</div>\n",
              "    </div>\n",
              "  </div>\n"
            ]
          },
          "metadata": {},
          "execution_count": 11
        }
      ]
    },
    {
      "cell_type": "code",
      "source": [
        "\n",
        "\n",
        "X.mean( axis = 0)"
      ],
      "metadata": {
        "colab": {
          "base_uri": "https://localhost:8080/"
        },
        "id": "NG2d_zIdTsJo",
        "outputId": "bbf7d274-6876-4da1-8143-51d67c7034ba"
      },
      "execution_count": 12,
      "outputs": [
        {
          "output_type": "execute_result",
          "data": {
            "text/plain": [
              "array([-2.75335310e-17,  5.82867088e-17, -1.06581410e-17, -1.39888101e-17,\n",
              "        2.49800181e-18,  4.28546088e-17,  1.43635104e-17,  1.46549439e-17,\n",
              "        7.14983628e-17, -1.07691633e-16])"
            ]
          },
          "metadata": {},
          "execution_count": 12
        }
      ]
    },
    {
      "cell_type": "code",
      "source": [
        "X.std(axis = 0)"
      ],
      "metadata": {
        "colab": {
          "base_uri": "https://localhost:8080/"
        },
        "id": "XdDi36mbTzq4",
        "outputId": "745d5a03-0cfd-4580-d623-f8dee0324055"
      },
      "execution_count": 13,
      "outputs": [
        {
          "output_type": "execute_result",
          "data": {
            "text/plain": [
              "array([1., 1., 1., 1., 1., 1., 1., 1., 1., 1.])"
            ]
          },
          "metadata": {},
          "execution_count": 13
        }
      ]
    },
    {
      "cell_type": "code",
      "source": [],
      "metadata": {
        "id": "ox8lNXxNT5GY"
      },
      "execution_count": 13,
      "outputs": []
    },
    {
      "cell_type": "markdown",
      "source": [
        "**Visualize y as a function of each feature**"
      ],
      "metadata": {
        "id": "WJhtMeHHUJhX"
      }
    },
    {
      "cell_type": "code",
      "source": [
        "# I want to plot only all feature in subplot\n",
        "\n",
        "for f in range(0, 10):\n",
        "  #for every feature in range == 10 features\n",
        "  plt.subplot(4,3,f+1)\n",
        "  plt.scatter(X[:, f], y)\n",
        "\n",
        "plt.show()\n",
        "\n",
        "\n"
      ],
      "metadata": {
        "colab": {
          "base_uri": "https://localhost:8080/",
          "height": 430
        },
        "id": "NxKR9Yn3URAj",
        "outputId": "9a77ccf0-fb5f-4c9c-a557-89193c13bd71"
      },
      "execution_count": 14,
      "outputs": [
        {
          "output_type": "display_data",
          "data": {
            "text/plain": [
              "<Figure size 640x480 with 10 Axes>"
            ],
            "image/png": "[encoded data removed]"
          },
          "metadata": {}
        }
      ]
    },
    {
      "cell_type": "markdown",
      "source": [
        "**STEP - 4 :: Split The Data into test & Train**\n",
        "\n",
        "**This time we will do traiN nand Test Split using SKLERAN [ TRAIUN 9 TEST SPLIT]**"
      ],
      "metadata": {
        "id": "-TFmBM96ydIR"
      }
    },
    {
      "cell_type": "code",
      "source": [
        "from sklearn.model_selection import train_test_split"
      ],
      "metadata": {
        "id": "G2D2E8Mzy1l4"
      },
      "execution_count": 15,
      "outputs": []
    },
    {
      "cell_type": "code",
      "source": [
        "X_train, y_train, X_test, y_test = train_test_split(X, y, test_size = 0.3, shuffle = False, random_state = 0)"
      ],
      "metadata": {
        "id": "CZOkSh5BzCTu"
      },
      "execution_count": 19,
      "outputs": []
    },
    {
      "cell_type": "code",
      "source": [
        "X_train.shape"
      ],
      "metadata": {
        "colab": {
          "base_uri": "https://localhost:8080/"
        },
        "id": "26RWjcqFzjqj",
        "outputId": "834f489c-366a-49be-b1f6-303bb0073d81"
      },
      "execution_count": 20,
      "outputs": [
        {
          "output_type": "execute_result",
          "data": {
            "text/plain": [
              "(350, 10)"
            ]
          },
          "metadata": {},
          "execution_count": 20
        }
      ]
    },
    {
      "cell_type": "code",
      "source": [
        "y_train.shape"
      ],
      "metadata": {
        "colab": {
          "base_uri": "https://localhost:8080/"
        },
        "id": "WWArMrZUzn1r",
        "outputId": "afc6cfbd-bc97-441b-ac8b-af52d5858937"
      },
      "execution_count": 21,
      "outputs": [
        {
          "output_type": "execute_result",
          "data": {
            "text/plain": [
              "(150, 10)"
            ]
          },
          "metadata": {},
          "execution_count": 21
        }
      ]
    },
    {
      "cell_type": "code",
      "source": [
        "X_test.shape"
      ],
      "metadata": {
        "colab": {
          "base_uri": "https://localhost:8080/"
        },
        "id": "POb-NJvOzr68",
        "outputId": "715e9c56-d043-4b47-97a0-6c7932731314"
      },
      "execution_count": 22,
      "outputs": [
        {
          "output_type": "execute_result",
          "data": {
            "text/plain": [
              "(350,)"
            ]
          },
          "metadata": {},
          "execution_count": 22
        }
      ]
    },
    {
      "cell_type": "code",
      "source": [
        "y_test.shape"
      ],
      "metadata": {
        "colab": {
          "base_uri": "https://localhost:8080/"
        },
        "id": "1ieNha2Xzt-s",
        "outputId": "481c3561-e834-4283-8c96-ecd73106b269"
      },
      "execution_count": 23,
      "outputs": [
        {
          "output_type": "execute_result",
          "data": {
            "text/plain": [
              "(150,)"
            ]
          },
          "metadata": {},
          "execution_count": 23
        }
      ]
    },
    {
      "cell_type": "code",
      "source": [],
      "metadata": {
        "id": "N-lfkkeczvY7"
      },
      "execution_count": 23,
      "outputs": []
    },
    {
      "cell_type": "markdown",
      "source": [
        "\n",
        "\n",
        "## **Hypothesis // Modelling**"
      ],
      "metadata": {
        "id": "uwaET02rz1AC"
      }
    },
    {
      "cell_type": "code",
      "source": [
        "from sklearn.model_selection import train_test_split\n",
        "\n",
        "# Assuming preprocess is defined\n",
        "def preprocess(X):\n",
        "    if X.shape[1] == n_features:\n",
        "\n",
        "    # This Code is written because Sometimes we add Rum more than one times.\n",
        "    # It means Dummy Column may get added more than once. To Avoid the same it is written\n",
        "    # IT MEANS IF I HAVE 10 FEATURES THAN ONLY DUMMY COLUMN WOULD GET ADDED\n",
        "\n",
        "        # add a Coloumn of 1's as Oth Column\n",
        "        m = X.shape[0]\n",
        "        ones = np.ones((m, 1))\n",
        "\n",
        "        # I want m rows and 1 coloumn and all the colomn will contain value as **1**\n",
        "        # NOW ADDING THE COLUMN TO X\n",
        "        X = np.hstack((ones, X))  #   # Hstack -->> Horizontally\n",
        "    return X\n",
        "\n",
        "# Assuming X and y are your original data\n",
        "# Also assuming n_features is defined somewhere in your code\n",
        "\n",
        "# Split the data into training and testing sets\n",
        "X_train, X_test, y_train, y_test = train_test_split(X, y, test_size=0.3, random_state=42)\n",
        "\n",
        "# Preprocess the training and testing sets\n",
        "X_train = preprocess(X_train)\n",
        "X_test = preprocess(X_test)\n",
        "\n",
        "# Print the shapes of the preprocessed datasets\n",
        "print(\"X_train shape:\", X_train.shape)\n",
        "print(\"X_test shape:\", X_test.shape)\n"
      ],
      "metadata": {
        "colab": {
          "base_uri": "https://localhost:8080/"
        },
        "id": "oPrDgRo5QMvc",
        "outputId": "23e14800-17c6-40c1-8a05-11a1edabb78a"
      },
      "execution_count": 24,
      "outputs": [
        {
          "output_type": "stream",
          "name": "stdout",
          "text": [
            "X_train shape: (350, 11)\n",
            "X_test shape: (150, 11)\n"
          ]
        }
      ]
    },
    {
      "cell_type": "code",
      "source": [
        "def hypothesis(X, theta):\n",
        "  return np.dot(X, theta)"
      ],
      "metadata": {
        "id": "EdDywputz8s1"
      },
      "execution_count": 25,
      "outputs": []
    },
    {
      "cell_type": "code",
      "source": [
        "def loss(X, y, theta):\n",
        "  y_pred = hypothesis(X, theta)\n",
        "  error = np.sum((y - y_pred)**2)\n",
        "  return error"
      ],
      "metadata": {
        "id": "K1k9h94R1pub"
      },
      "execution_count": 26,
      "outputs": []
    },
    {
      "cell_type": "code",
      "source": [
        "pd.DataFrame(X).head()"
      ],
      "metadata": {
        "colab": {
          "base_uri": "https://localhost:8080/",
          "height": 206
        },
        "id": "Si-SFV0GJW8O",
        "outputId": "c0fb456b-a3ae-4527-fb0a-32c53cb0a550"
      },
      "execution_count": 27,
      "outputs": [
        {
          "output_type": "execute_result",
          "data": {
            "text/plain": [
              "          0         1         2         3         4         5         6  \\\n",
              "0  1.764831  1.579606  0.093808  0.341546  0.103202  0.745205  0.421736   \n",
              "1 -1.612963  0.709920 -0.277540 -0.301827 -0.693297 -0.045695  1.116862   \n",
              "2  0.125936 -0.058708  1.030243  0.559735 -2.658385  1.007996 -2.100631   \n",
              "3 -1.537551 -0.717175  0.635024 -0.351591 -2.295090 -0.855000  1.655498   \n",
              "4 -0.072209 -2.155744  0.533470  1.597083  1.331926 -0.658985  1.094355   \n",
              "\n",
              "          7         8         9  \n",
              "0 -0.461091 -0.710885 -0.761760  \n",
              "1  0.265971 -0.166048  0.714702  \n",
              "2 -0.566372  0.213499  0.175267  \n",
              "3 -0.263762  0.068151  0.629417  \n",
              "4  0.815541  0.204426  0.872842  "
            ],
            "text/html": [
              "\n",
              "  <div id=\"df-80a25280-2646-4235-9a84-5fac5a4651a2\" class=\"colab-df-container\">\n",
              "    <div>\n",
              "<style scoped>\n",
              "    .dataframe tbody tr th:only-of-type {\n",
              "        vertical-align: middle;\n",
              "    }\n",
              "\n",
              "    .dataframe tbody tr th {\n",
              "        vertical-align: top;\n",
              "    }\n",
              "\n",
              "    .dataframe thead th {\n",
              "        text-align: right;\n",
              "    }\n",
              "</style>\n",
              "<table border=\"1\" class=\"dataframe\">\n",
              "  <thead>\n",
              "    <tr style=\"text-align: right;\">\n",
              "      <th></th>\n",
              "      <th>0</th>\n",
              "      <th>1</th>\n",
              "      <th>2</th>\n",
              "      <th>3</th>\n",
              "      <th>4</th>\n",
              "      <th>5</th>\n",
              "      <th>6</th>\n",
              "      <th>7</th>\n",
              "      <th>8</th>\n",
              "      <th>9</th>\n",
              "    </tr>\n",
              "  </thead>\n",
              "  <tbody>\n",
              "    <tr>\n",
              "      <th>0</th>\n",
              "      <td>1.764831</td>\n",
              "      <td>1.579606</td>\n",
              "      <td>0.093808</td>\n",
              "      <td>0.341546</td>\n",
              "      <td>0.103202</td>\n",
              "      <td>0.745205</td>\n",
              "      <td>0.421736</td>\n",
              "      <td>-0.461091</td>\n",
              "      <td>-0.710885</td>\n",
              "      <td>-0.761760</td>\n",
              "    </tr>\n",
              "    <tr>\n",
              "      <th>1</th>\n",
              "      <td>-1.612963</td>\n",
              "      <td>0.709920</td>\n",
              "      <td>-0.277540</td>\n",
              "      <td>-0.301827</td>\n",
              "      <td>-0.693297</td>\n",
              "      <td>-0.045695</td>\n",
              "      <td>1.116862</td>\n",
              "      <td>0.265971</td>\n",
              "      <td>-0.166048</td>\n",
              "      <td>0.714702</td>\n",
              "    </tr>\n",
              "    <tr>\n",
              "      <th>2</th>\n",
              "      <td>0.125936</td>\n",
              "      <td>-0.058708</td>\n",
              "      <td>1.030243</td>\n",
              "      <td>0.559735</td>\n",
              "      <td>-2.658385</td>\n",
              "      <td>1.007996</td>\n",
              "      <td>-2.100631</td>\n",
              "      <td>-0.566372</td>\n",
              "      <td>0.213499</td>\n",
              "      <td>0.175267</td>\n",
              "    </tr>\n",
              "    <tr>\n",
              "      <th>3</th>\n",
              "      <td>-1.537551</td>\n",
              "      <td>-0.717175</td>\n",
              "      <td>0.635024</td>\n",
              "      <td>-0.351591</td>\n",
              "      <td>-2.295090</td>\n",
              "      <td>-0.855000</td>\n",
              "      <td>1.655498</td>\n",
              "      <td>-0.263762</td>\n",
              "      <td>0.068151</td>\n",
              "      <td>0.629417</td>\n",
              "    </tr>\n",
              "    <tr>\n",
              "      <th>4</th>\n",
              "      <td>-0.072209</td>\n",
              "      <td>-2.155744</td>\n",
              "      <td>0.533470</td>\n",
              "      <td>1.597083</td>\n",
              "      <td>1.331926</td>\n",
              "      <td>-0.658985</td>\n",
              "      <td>1.094355</td>\n",
              "      <td>0.815541</td>\n",
              "      <td>0.204426</td>\n",
              "      <td>0.872842</td>\n",
              "    </tr>\n",
              "  </tbody>\n",
              "</table>\n",
              "</div>\n",
              "    <div class=\"colab-df-buttons\">\n",
              "\n",
              "  <div class=\"colab-df-container\">\n",
              "    <button class=\"colab-df-convert\" onclick=\"convertToInteractive('df-80a25280-2646-4235-9a84-5fac5a4651a2')\"\n",
              "            title=\"Convert this dataframe to an interactive table.\"\n",
              "            style=\"display:none;\">\n",
              "\n",
              "  <svg xmlns=\"http://www.w3.org/2000/svg\" height=\"24px\" viewBox=\"0 -960 960 960\">\n",
              "    <path d=\"M120-120v-720h720v720H120Zm60-500h600v-160H180v160Zm220 220h160v-160H400v160Zm0 220h160v-160H400v160ZM180-400h160v-160H180v160Zm440 0h160v-160H620v160ZM180-180h160v-160H180v160Zm440 0h160v-160H620v160Z\"/>\n",
              "  </svg>\n",
              "    </button>\n",
              "\n",
              "  <style>\n",
              "    .colab-df-container {\n",
              "      display:flex;\n",
              "      gap: 12px;\n",
              "    }\n",
              "\n",
              "    .colab-df-convert {\n",
              "      background-color: #E8F0FE;\n",
              "      border: none;\n",
              "      border-radius: 50%;\n",
              "      cursor: pointer;\n",
              "      display: none;\n",
              "      fill: #1967D2;\n",
              "      height: 32px;\n",
              "      padding: 0 0 0 0;\n",
              "      width: 32px;\n",
              "    }\n",
              "\n",
              "    .colab-df-convert:hover {\n",
              "      background-color: #E2EBFA;\n",
              "      box-shadow: 0px 1px 2px rgba(60, 64, 67, 0.3), 0px 1px 3px 1px rgba(60, 64, 67, 0.15);\n",
              "      fill: #174EA6;\n",
              "    }\n",
              "\n",
              "    .colab-df-buttons div {\n",
              "      margin-bottom: 4px;\n",
              "    }\n",
              "\n",
              "    [theme=dark] .colab-df-convert {\n",
              "      background-color: #3B4455;\n",
              "      fill: #D2E3FC;\n",
              "    }\n",
              "\n",
              "    [theme=dark] .colab-df-convert:hover {\n",
              "      background-color: #434B5C;\n",
              "      box-shadow: 0px 1px 3px 1px rgba(0, 0, 0, 0.15);\n",
              "      filter: drop-shadow(0px 1px 2px rgba(0, 0, 0, 0.3));\n",
              "      fill: #FFFFFF;\n",
              "    }\n",
              "  </style>\n",
              "\n",
              "    <script>\n",
              "      const buttonEl =\n",
              "        document.querySelector('#df-80a25280-2646-4235-9a84-5fac5a4651a2 button.colab-df-convert');\n",
              "      buttonEl.style.display =\n",
              "        google.colab.kernel.accessAllowed ? 'block' : 'none';\n",
              "\n",
              "      async function convertToInteractive(key) {\n",
              "        const element = document.querySelector('#df-80a25280-2646-4235-9a84-5fac5a4651a2');\n",
              "        const dataTable =\n",
              "          await google.colab.kernel.invokeFunction('convertToInteractive',\n",
              "                                                    [key], {});\n",
              "        if (!dataTable) return;\n",
              "\n",
              "        const docLinkHtml = 'Like what you see? Visit the ' +\n",
              "          '<a target=\"_blank\" href=https://colab.research.google.com/notebooks/data_table.ipynb>data table notebook</a>'\n",
              "          + ' to learn more about interactive tables.';\n",
              "        element.innerHTML = '';\n",
              "        dataTable['output_type'] = 'display_data';\n",
              "        await google.colab.output.renderOutput(dataTable, element);\n",
              "        const docLink = document.createElement('div');\n",
              "        docLink.innerHTML = docLinkHtml;\n",
              "        element.appendChild(docLink);\n",
              "      }\n",
              "    </script>\n",
              "  </div>\n",
              "\n",
              "\n",
              "<div id=\"df-6d05bc1c-15fe-43c4-8d26-7c4a96dce338\">\n",
              "  <button class=\"colab-df-quickchart\" onclick=\"quickchart('df-6d05bc1c-15fe-43c4-8d26-7c4a96dce338')\"\n",
              "            title=\"Suggest charts.\"\n",
              "            style=\"display:none;\">\n",
              "\n",
              "<svg xmlns=\"http://www.w3.org/2000/svg\" height=\"24px\"viewBox=\"0 0 24 24\"\n",
              "     width=\"24px\">\n",
              "    <g>\n",
              "        <path d=\"M19 3H5c-1.1 0-2 .9-2 2v14c0 1.1.9 2 2 2h14c1.1 0 2-.9 2-2V5c0-1.1-.9-2-2-2zM9 17H7v-7h2v7zm4 0h-2V7h2v10zm4 0h-2v-4h2v4z\"/>\n",
              "    </g>\n",
              "</svg>\n",
              "  </button>\n",
              "\n",
              "<style>\n",
              "  .colab-df-quickchart {\n",
              "      --bg-color: #E8F0FE;\n",
              "      --fill-color: #1967D2;\n",
              "      --hover-bg-color: #E2EBFA;\n",
              "      --hover-fill-color: #174EA6;\n",
              "      --disabled-fill-color: #AAA;\n",
              "      --disabled-bg-color: #DDD;\n",
              "  }\n",
              "\n",
              "  [theme=dark] .colab-df-quickchart {\n",
              "      --bg-color: #3B4455;\n",
              "      --fill-color: #D2E3FC;\n",
              "      --hover-bg-color: #434B5C;\n",
              "      --hover-fill-color: #FFFFFF;\n",
              "      --disabled-bg-color: #3B4455;\n",
              "      --disabled-fill-color: #666;\n",
              "  }\n",
              "\n",
              "  .colab-df-quickchart {\n",
              "    background-color: var(--bg-color);\n",
              "    border: none;\n",
              "    border-radius: 50%;\n",
              "    cursor: pointer;\n",
              "    display: none;\n",
              "    fill: var(--fill-color);\n",
              "    height: 32px;\n",
              "    padding: 0;\n",
              "    width: 32px;\n",
              "  }\n",
              "\n",
              "  .colab-df-quickchart:hover {\n",
              "    background-color: var(--hover-bg-color);\n",
              "    box-shadow: 0 1px 2px rgba(60, 64, 67, 0.3), 0 1px 3px 1px rgba(60, 64, 67, 0.15);\n",
              "    fill: var(--button-hover-fill-color);\n",
              "  }\n",
              "\n",
              "  .colab-df-quickchart-complete:disabled,\n",
              "  .colab-df-quickchart-complete:disabled:hover {\n",
              "    background-color: var(--disabled-bg-color);\n",
              "    fill: var(--disabled-fill-color);\n",
              "    box-shadow: none;\n",
              "  }\n",
              "\n",
              "  .colab-df-spinner {\n",
              "    border: 2px solid var(--fill-color);\n",
              "    border-color: transparent;\n",
              "    border-bottom-color: var(--fill-color);\n",
              "    animation:\n",
              "      spin 1s steps(1) infinite;\n",
              "  }\n",
              "\n",
              "  @keyframes spin {\n",
              "    0% {\n",
              "      border-color: transparent;\n",
              "      border-bottom-color: var(--fill-color);\n",
              "      border-left-color: var(--fill-color);\n",
              "    }\n",
              "    20% {\n",
              "      border-color: transparent;\n",
              "      border-left-color: var(--fill-color);\n",
              "      border-top-color: var(--fill-color);\n",
              "    }\n",
              "    30% {\n",
              "      border-color: transparent;\n",
              "      border-left-color: var(--fill-color);\n",
              "      border-top-color: var(--fill-color);\n",
              "      border-right-color: var(--fill-color);\n",
              "    }\n",
              "    40% {\n",
              "      border-color: transparent;\n",
              "      border-right-color: var(--fill-color);\n",
              "      border-top-color: var(--fill-color);\n",
              "    }\n",
              "    60% {\n",
              "      border-color: transparent;\n",
              "      border-right-color: var(--fill-color);\n",
              "    }\n",
              "    80% {\n",
              "      border-color: transparent;\n",
              "      border-right-color: var(--fill-color);\n",
              "      border-bottom-color: var(--fill-color);\n",
              "    }\n",
              "    90% {\n",
              "      border-color: transparent;\n",
              "      border-bottom-color: var(--fill-color);\n",
              "    }\n",
              "  }\n",
              "</style>\n",
              "\n",
              "  <script>\n",
              "    async function quickchart(key) {\n",
              "      const quickchartButtonEl =\n",
              "        document.querySelector('#' + key + ' button');\n",
              "      quickchartButtonEl.disabled = true;  // To prevent multiple clicks.\n",
              "      quickchartButtonEl.classList.add('colab-df-spinner');\n",
              "      try {\n",
              "        const charts = await google.colab.kernel.invokeFunction(\n",
              "            'suggestCharts', [key], {});\n",
              "      } catch (error) {\n",
              "        console.error('Error during call to suggestCharts:', error);\n",
              "      }\n",
              "      quickchartButtonEl.classList.remove('colab-df-spinner');\n",
              "      quickchartButtonEl.classList.add('colab-df-quickchart-complete');\n",
              "    }\n",
              "    (() => {\n",
              "      let quickchartButtonEl =\n",
              "        document.querySelector('#df-6d05bc1c-15fe-43c4-8d26-7c4a96dce338 button');\n",
              "      quickchartButtonEl.style.display =\n",
              "        google.colab.kernel.accessAllowed ? 'block' : 'none';\n",
              "    })();\n",
              "  </script>\n",
              "</div>\n",
              "    </div>\n",
              "  </div>\n"
            ]
          },
          "metadata": {},
          "execution_count": 27
        }
      ]
    },
    {
      "cell_type": "code",
      "source": [
        "X_train = preprocess(X_train)\n",
        "pd.DataFrame(X_train).head()\n",
        "\n",
        "# We have 11 Column"
      ],
      "metadata": {
        "colab": {
          "base_uri": "https://localhost:8080/",
          "height": 206
        },
        "id": "FSWEYsUPJl6P",
        "outputId": "0fb9a022-21fb-4e16-d94b-54a7956844e3"
      },
      "execution_count": 28,
      "outputs": [
        {
          "output_type": "execute_result",
          "data": {
            "text/plain": [
              "    0         1         2         3         4         5         6         7   \\\n",
              "0  1.0  0.846030 -0.196316  1.974867  0.899303 -0.120924  1.012577 -0.858283   \n",
              "1  1.0  1.266926 -0.423631  1.494501 -1.771979  2.028854 -0.388102 -0.146958   \n",
              "2  1.0  1.370568 -2.082429 -0.911617 -0.826938 -0.211031 -0.279848 -0.560405   \n",
              "3  1.0  0.222313 -1.861104 -1.102958 -0.582270  0.118062  0.551439 -0.591445   \n",
              "4  1.0 -0.103277  0.715994 -1.187923  1.555458  1.230527 -0.210213 -0.026827   \n",
              "\n",
              "         8         9         10  \n",
              "0  0.593479  0.886169  1.988137  \n",
              "1  1.024823  0.915690  0.116749  \n",
              "2 -1.066258 -0.182625  0.532808  \n",
              "3 -0.313087  0.035609 -0.003640  \n",
              "4  0.997693 -1.892401  0.852313  "
            ],
            "text/html": [
              "\n",
              "  <div id=\"df-f8668755-d351-4364-bb04-ba3b7fc93a25\" class=\"colab-df-container\">\n",
              "    <div>\n",
              "<style scoped>\n",
              "    .dataframe tbody tr th:only-of-type {\n",
              "        vertical-align: middle;\n",
              "    }\n",
              "\n",
              "    .dataframe tbody tr th {\n",
              "        vertical-align: top;\n",
              "    }\n",
              "\n",
              "    .dataframe thead th {\n",
              "        text-align: right;\n",
              "    }\n",
              "</style>\n",
              "<table border=\"1\" class=\"dataframe\">\n",
              "  <thead>\n",
              "    <tr style=\"text-align: right;\">\n",
              "      <th></th>\n",
              "      <th>0</th>\n",
              "      <th>1</th>\n",
              "      <th>2</th>\n",
              "      <th>3</th>\n",
              "      <th>4</th>\n",
              "      <th>5</th>\n",
              "      <th>6</th>\n",
              "      <th>7</th>\n",
              "      <th>8</th>\n",
              "      <th>9</th>\n",
              "      <th>10</th>\n",
              "    </tr>\n",
              "  </thead>\n",
              "  <tbody>\n",
              "    <tr>\n",
              "      <th>0</th>\n",
              "      <td>1.0</td>\n",
              "      <td>0.846030</td>\n",
              "      <td>-0.196316</td>\n",
              "      <td>1.974867</td>\n",
              "      <td>0.899303</td>\n",
              "      <td>-0.120924</td>\n",
              "      <td>1.012577</td>\n",
              "      <td>-0.858283</td>\n",
              "      <td>0.593479</td>\n",
              "      <td>0.886169</td>\n",
              "      <td>1.988137</td>\n",
              "    </tr>\n",
              "    <tr>\n",
              "      <th>1</th>\n",
              "      <td>1.0</td>\n",
              "      <td>1.266926</td>\n",
              "      <td>-0.423631</td>\n",
              "      <td>1.494501</td>\n",
              "      <td>-1.771979</td>\n",
              "      <td>2.028854</td>\n",
              "      <td>-0.388102</td>\n",
              "      <td>-0.146958</td>\n",
              "      <td>1.024823</td>\n",
              "      <td>0.915690</td>\n",
              "      <td>0.116749</td>\n",
              "    </tr>\n",
              "    <tr>\n",
              "      <th>2</th>\n",
              "      <td>1.0</td>\n",
              "      <td>1.370568</td>\n",
              "      <td>-2.082429</td>\n",
              "      <td>-0.911617</td>\n",
              "      <td>-0.826938</td>\n",
              "      <td>-0.211031</td>\n",
              "      <td>-0.279848</td>\n",
              "      <td>-0.560405</td>\n",
              "      <td>-1.066258</td>\n",
              "      <td>-0.182625</td>\n",
              "      <td>0.532808</td>\n",
              "    </tr>\n",
              "    <tr>\n",
              "      <th>3</th>\n",
              "      <td>1.0</td>\n",
              "      <td>0.222313</td>\n",
              "      <td>-1.861104</td>\n",
              "      <td>-1.102958</td>\n",
              "      <td>-0.582270</td>\n",
              "      <td>0.118062</td>\n",
              "      <td>0.551439</td>\n",
              "      <td>-0.591445</td>\n",
              "      <td>-0.313087</td>\n",
              "      <td>0.035609</td>\n",
              "      <td>-0.003640</td>\n",
              "    </tr>\n",
              "    <tr>\n",
              "      <th>4</th>\n",
              "      <td>1.0</td>\n",
              "      <td>-0.103277</td>\n",
              "      <td>0.715994</td>\n",
              "      <td>-1.187923</td>\n",
              "      <td>1.555458</td>\n",
              "      <td>1.230527</td>\n",
              "      <td>-0.210213</td>\n",
              "      <td>-0.026827</td>\n",
              "      <td>0.997693</td>\n",
              "      <td>-1.892401</td>\n",
              "      <td>0.852313</td>\n",
              "    </tr>\n",
              "  </tbody>\n",
              "</table>\n",
              "</div>\n",
              "    <div class=\"colab-df-buttons\">\n",
              "\n",
              "  <div class=\"colab-df-container\">\n",
              "    <button class=\"colab-df-convert\" onclick=\"convertToInteractive('df-f8668755-d351-4364-bb04-ba3b7fc93a25')\"\n",
              "            title=\"Convert this dataframe to an interactive table.\"\n",
              "            style=\"display:none;\">\n",
              "\n",
              "  <svg xmlns=\"http://www.w3.org/2000/svg\" height=\"24px\" viewBox=\"0 -960 960 960\">\n",
              "    <path d=\"M120-120v-720h720v720H120Zm60-500h600v-160H180v160Zm220 220h160v-160H400v160Zm0 220h160v-160H400v160ZM180-400h160v-160H180v160Zm440 0h160v-160H620v160ZM180-180h160v-160H180v160Zm440 0h160v-160H620v160Z\"/>\n",
              "  </svg>\n",
              "    </button>\n",
              "\n",
              "  <style>\n",
              "    .colab-df-container {\n",
              "      display:flex;\n",
              "      gap: 12px;\n",
              "    }\n",
              "\n",
              "    .colab-df-convert {\n",
              "      background-color: #E8F0FE;\n",
              "      border: none;\n",
              "      border-radius: 50%;\n",
              "      cursor: pointer;\n",
              "      display: none;\n",
              "      fill: #1967D2;\n",
              "      height: 32px;\n",
              "      padding: 0 0 0 0;\n",
              "      width: 32px;\n",
              "    }\n",
              "\n",
              "    .colab-df-convert:hover {\n",
              "      background-color: #E2EBFA;\n",
              "      box-shadow: 0px 1px 2px rgba(60, 64, 67, 0.3), 0px 1px 3px 1px rgba(60, 64, 67, 0.15);\n",
              "      fill: #174EA6;\n",
              "    }\n",
              "\n",
              "    .colab-df-buttons div {\n",
              "      margin-bottom: 4px;\n",
              "    }\n",
              "\n",
              "    [theme=dark] .colab-df-convert {\n",
              "      background-color: #3B4455;\n",
              "      fill: #D2E3FC;\n",
              "    }\n",
              "\n",
              "    [theme=dark] .colab-df-convert:hover {\n",
              "      background-color: #434B5C;\n",
              "      box-shadow: 0px 1px 3px 1px rgba(0, 0, 0, 0.15);\n",
              "      filter: drop-shadow(0px 1px 2px rgba(0, 0, 0, 0.3));\n",
              "      fill: #FFFFFF;\n",
              "    }\n",
              "  </style>\n",
              "\n",
              "    <script>\n",
              "      const buttonEl =\n",
              "        document.querySelector('#df-f8668755-d351-4364-bb04-ba3b7fc93a25 button.colab-df-convert');\n",
              "      buttonEl.style.display =\n",
              "        google.colab.kernel.accessAllowed ? 'block' : 'none';\n",
              "\n",
              "      async function convertToInteractive(key) {\n",
              "        const element = document.querySelector('#df-f8668755-d351-4364-bb04-ba3b7fc93a25');\n",
              "        const dataTable =\n",
              "          await google.colab.kernel.invokeFunction('convertToInteractive',\n",
              "                                                    [key], {});\n",
              "        if (!dataTable) return;\n",
              "\n",
              "        const docLinkHtml = 'Like what you see? Visit the ' +\n",
              "          '<a target=\"_blank\" href=https://colab.research.google.com/notebooks/data_table.ipynb>data table notebook</a>'\n",
              "          + ' to learn more about interactive tables.';\n",
              "        element.innerHTML = '';\n",
              "        dataTable['output_type'] = 'display_data';\n",
              "        await google.colab.output.renderOutput(dataTable, element);\n",
              "        const docLink = document.createElement('div');\n",
              "        docLink.innerHTML = docLinkHtml;\n",
              "        element.appendChild(docLink);\n",
              "      }\n",
              "    </script>\n",
              "  </div>\n",
              "\n",
              "\n",
              "<div id=\"df-37b72d18-66fd-42f1-8928-5a2644d3400e\">\n",
              "  <button class=\"colab-df-quickchart\" onclick=\"quickchart('df-37b72d18-66fd-42f1-8928-5a2644d3400e')\"\n",
              "            title=\"Suggest charts.\"\n",
              "            style=\"display:none;\">\n",
              "\n",
              "<svg xmlns=\"http://www.w3.org/2000/svg\" height=\"24px\"viewBox=\"0 0 24 24\"\n",
              "     width=\"24px\">\n",
              "    <g>\n",
              "        <path d=\"M19 3H5c-1.1 0-2 .9-2 2v14c0 1.1.9 2 2 2h14c1.1 0 2-.9 2-2V5c0-1.1-.9-2-2-2zM9 17H7v-7h2v7zm4 0h-2V7h2v10zm4 0h-2v-4h2v4z\"/>\n",
              "    </g>\n",
              "</svg>\n",
              "  </button>\n",
              "\n",
              "<style>\n",
              "  .colab-df-quickchart {\n",
              "      --bg-color: #E8F0FE;\n",
              "      --fill-color: #1967D2;\n",
              "      --hover-bg-color: #E2EBFA;\n",
              "      --hover-fill-color: #174EA6;\n",
              "      --disabled-fill-color: #AAA;\n",
              "      --disabled-bg-color: #DDD;\n",
              "  }\n",
              "\n",
              "  [theme=dark] .colab-df-quickchart {\n",
              "      --bg-color: #3B4455;\n",
              "      --fill-color: #D2E3FC;\n",
              "      --hover-bg-color: #434B5C;\n",
              "      --hover-fill-color: #FFFFFF;\n",
              "      --disabled-bg-color: #3B4455;\n",
              "      --disabled-fill-color: #666;\n",
              "  }\n",
              "\n",
              "  .colab-df-quickchart {\n",
              "    background-color: var(--bg-color);\n",
              "    border: none;\n",
              "    border-radius: 50%;\n",
              "    cursor: pointer;\n",
              "    display: none;\n",
              "    fill: var(--fill-color);\n",
              "    height: 32px;\n",
              "    padding: 0;\n",
              "    width: 32px;\n",
              "  }\n",
              "\n",
              "  .colab-df-quickchart:hover {\n",
              "    background-color: var(--hover-bg-color);\n",
              "    box-shadow: 0 1px 2px rgba(60, 64, 67, 0.3), 0 1px 3px 1px rgba(60, 64, 67, 0.15);\n",
              "    fill: var(--button-hover-fill-color);\n",
              "  }\n",
              "\n",
              "  .colab-df-quickchart-complete:disabled,\n",
              "  .colab-df-quickchart-complete:disabled:hover {\n",
              "    background-color: var(--disabled-bg-color);\n",
              "    fill: var(--disabled-fill-color);\n",
              "    box-shadow: none;\n",
              "  }\n",
              "\n",
              "  .colab-df-spinner {\n",
              "    border: 2px solid var(--fill-color);\n",
              "    border-color: transparent;\n",
              "    border-bottom-color: var(--fill-color);\n",
              "    animation:\n",
              "      spin 1s steps(1) infinite;\n",
              "  }\n",
              "\n",
              "  @keyframes spin {\n",
              "    0% {\n",
              "      border-color: transparent;\n",
              "      border-bottom-color: var(--fill-color);\n",
              "      border-left-color: var(--fill-color);\n",
              "    }\n",
              "    20% {\n",
              "      border-color: transparent;\n",
              "      border-left-color: var(--fill-color);\n",
              "      border-top-color: var(--fill-color);\n",
              "    }\n",
              "    30% {\n",
              "      border-color: transparent;\n",
              "      border-left-color: var(--fill-color);\n",
              "      border-top-color: var(--fill-color);\n",
              "      border-right-color: var(--fill-color);\n",
              "    }\n",
              "    40% {\n",
              "      border-color: transparent;\n",
              "      border-right-color: var(--fill-color);\n",
              "      border-top-color: var(--fill-color);\n",
              "    }\n",
              "    60% {\n",
              "      border-color: transparent;\n",
              "      border-right-color: var(--fill-color);\n",
              "    }\n",
              "    80% {\n",
              "      border-color: transparent;\n",
              "      border-right-color: var(--fill-color);\n",
              "      border-bottom-color: var(--fill-color);\n",
              "    }\n",
              "    90% {\n",
              "      border-color: transparent;\n",
              "      border-bottom-color: var(--fill-color);\n",
              "    }\n",
              "  }\n",
              "</style>\n",
              "\n",
              "  <script>\n",
              "    async function quickchart(key) {\n",
              "      const quickchartButtonEl =\n",
              "        document.querySelector('#' + key + ' button');\n",
              "      quickchartButtonEl.disabled = true;  // To prevent multiple clicks.\n",
              "      quickchartButtonEl.classList.add('colab-df-spinner');\n",
              "      try {\n",
              "        const charts = await google.colab.kernel.invokeFunction(\n",
              "            'suggestCharts', [key], {});\n",
              "      } catch (error) {\n",
              "        console.error('Error during call to suggestCharts:', error);\n",
              "      }\n",
              "      quickchartButtonEl.classList.remove('colab-df-spinner');\n",
              "      quickchartButtonEl.classList.add('colab-df-quickchart-complete');\n",
              "    }\n",
              "    (() => {\n",
              "      let quickchartButtonEl =\n",
              "        document.querySelector('#df-37b72d18-66fd-42f1-8928-5a2644d3400e button');\n",
              "      quickchartButtonEl.style.display =\n",
              "        google.colab.kernel.accessAllowed ? 'block' : 'none';\n",
              "    })();\n",
              "  </script>\n",
              "</div>\n",
              "    </div>\n",
              "  </div>\n"
            ]
          },
          "metadata": {},
          "execution_count": 28
        }
      ]
    },
    {
      "cell_type": "code",
      "source": [
        "X_test = preprocess(X_test)\n",
        "print(X_test.shape, X_train.shape)"
      ],
      "metadata": {
        "colab": {
          "base_uri": "https://localhost:8080/"
        },
        "id": "UyLUGrsILAtl",
        "outputId": "065b8b7c-b664-4912-d5e6-b14264fb9d8e"
      },
      "execution_count": 29,
      "outputs": [
        {
          "output_type": "stream",
          "name": "stdout",
          "text": [
            "(150, 11) (350, 11)\n"
          ]
        }
      ]
    },
    {
      "cell_type": "markdown",
      "source": [
        "## **Computing Gradient Descent**"
      ],
      "metadata": {
        "id": "8xmzqPmr4Eyq"
      }
    },
    {
      "cell_type": "code",
      "source": [
        "def gradient(X, y, theta):\n",
        "  y_pred = hypothesis(X, theta)\n",
        "  grad = np.dot(X.T, (y_pred - y))\n",
        "  m = X.shape[0]\n",
        "  return grad/m\n",
        "\n",
        "\n",
        "  \"\"\"\n",
        "  The expression m = X.shape[0] is commonly used in programming, particularly in the context of machine learning and data analysis.\n",
        "X is a variable, presumably representing some data or a matrix.\n",
        "X.shape is likely a method or attribute that returns the shape of the matrix or array X.\n",
        "In many programming languages and libraries like NumPy, the shape attribute of an array provides a\n",
        "tuple representing the dimensions of the array.\n",
        "X.shape[0] extracts the first element of the shape tuple. In the context of matrices,\n",
        "the first element usually corresponds to the number of rows.\n",
        "So, m = X.shape[0] assigns the number of rows in the matrix or the size of the first dimension to the variable m.\n",
        "This is often done to store the number of training examples in machine learning or the number of data points in\n",
        "a dataset.\n",
        "\n",
        "For example, if X is a matrix with 100 rows and 10 columns,\n",
        "then after executing m = X.shape[0], the variable m would be assigned the value 100.\n",
        "\"\"\""
      ],
      "metadata": {
        "id": "KJdy8tCZ4OyX"
      },
      "execution_count": 30,
      "outputs": []
    },
    {
      "cell_type": "markdown",
      "source": [
        "## **Traing The Model**"
      ],
      "metadata": {
        "id": "hvLxQbzmAbHX"
      }
    },
    {
      "cell_type": "code",
      "source": [
        "def train(X, y, learning_rate = 0.1, max_iterations = 100):\n",
        "  n = X.shape[1]\n",
        "  theta = np.random.randn(n)\n",
        "\n",
        "  #  Plotting error can also help\n",
        "  error_list = [ ]\n",
        "  for i in range (max_iterations):\n",
        "    error = loss(X, y, theta)\n",
        "    error_list.append(error)\n",
        "    grad = gradient(X, y, theta)\n",
        "    theta = theta - learning_rate * grad\n",
        "\n",
        "  plt.plot(error_list)\n",
        "  return theta\n"
      ],
      "metadata": {
        "id": "UMDr2-xFAgzt"
      },
      "execution_count": 31,
      "outputs": []
    },
    {
      "cell_type": "markdown",
      "source": [
        "**X.shape**  --> Gives you (500, 10) --> 500 Rows and 10 Columns\n",
        "\n",
        "**X.shape[1]** --> Gives you (100 -->> 10 Coloumns"
      ],
      "metadata": {
        "id": "dr-5vjuzGAw2"
      }
    },
    {
      "cell_type": "code",
      "source": [
        "theta = train(X_train, y_train)\n",
        "print(theta)"
      ],
      "metadata": {
        "id": "Xy57y8ZXFl6l",
        "colab": {
          "base_uri": "https://localhost:8080/",
          "height": 480
        },
        "outputId": "0f3497fa-45b9-48ff-c2bc-4e7adddddc55"
      },
      "execution_count": 32,
      "outputs": [
        {
          "output_type": "stream",
          "name": "stdout",
          "text": [
            "[-4.37336565  0.74003637 62.16815047  9.67795852 66.06941837  0.29565968\n",
            " -0.43051759 42.09727289 -0.78323821  1.43740447 23.61853931]\n"
          ]
        },
        {
          "output_type": "display_data",
          "data": {
            "text/plain": [
              "<Figure size 640x480 with 1 Axes>"
            ],
            "image/png": "[encoded data removed]"
          },
          "metadata": {}
        }
      ]
    },
    {
      "cell_type": "code",
      "source": [
        "\n"
      ],
      "metadata": {
        "id": "lW7EQf0mFmMu"
      },
      "execution_count": 32,
      "outputs": []
    },
    {
      "cell_type": "markdown",
      "source": [
        "**How Accurate our Predictions are ::::**\n",
        "\n",
        "## **R 2 SCORE**"
      ],
      "metadata": {
        "id": "e3rFiBFXTljB"
      }
    },
    {
      "cell_type": "code",
      "source": [
        "# EVALUATION\n",
        "\n",
        "def r2score(y, y_pred):\n",
        "  y_mean = y.mean()\n",
        "  #ymean is avg. of y\n",
        "  numerator = np.sum((y-y_pred)**2)\n",
        "  denominator = np.sum((y - y_mean)**2)\n",
        "  return 1 - (numerator / denominator)"
      ],
      "metadata": {
        "id": "Z3kmlf9UTxdy"
      },
      "execution_count": 33,
      "outputs": []
    },
    {
      "cell_type": "code",
      "source": [
        "# Y Predicted for the test Data\n",
        "\n",
        "y_pred = hypothesis(X_test, theta)"
      ],
      "metadata": {
        "id": "zd5BF6kPwyf9"
      },
      "execution_count": 35,
      "outputs": []
    },
    {
      "cell_type": "code",
      "source": [
        "r2score(y_test, y_pred)"
      ],
      "metadata": {
        "colab": {
          "base_uri": "https://localhost:8080/"
        },
        "id": "ReVovdOUxENd",
        "outputId": "47cbac86-0a68-4104-862f-9e05f2d4b193"
      },
      "execution_count": 39,
      "outputs": [
        {
          "output_type": "execute_result",
          "data": {
            "text/plain": [
              "0.9253069824589426"
            ]
          },
          "metadata": {},
          "execution_count": 39
        }
      ]
    },
    {
      "cell_type": "markdown",
      "source": [
        "**If you reduce the noise in Data R2 Score may improve**"
      ],
      "metadata": {
        "id": "Byc05BQUxqim"
      }
    }
  ]
}